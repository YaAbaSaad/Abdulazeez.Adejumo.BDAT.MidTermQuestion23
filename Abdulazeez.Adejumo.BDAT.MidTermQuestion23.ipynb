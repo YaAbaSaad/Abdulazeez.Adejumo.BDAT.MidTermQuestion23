{
 "cells": [
  {
   "cell_type": "code",
   "execution_count": 10,
   "id": "cc39b903",
   "metadata": {},
   "outputs": [
    {
     "name": "stdout",
     "output_type": "stream",
     "text": [
      "\n",
      "\n",
      "*\n",
      "\n",
      "\n",
      "*\n",
      "**\n",
      "\n",
      "\n",
      "*\n",
      "**\n",
      "***\n",
      "*\n",
      "**\n",
      "****\n",
      "*\n",
      "**\n",
      "***\n",
      "*\n",
      "**\n"
     ]
    }
   ],
   "source": [
    "def tough(indentation, max_number_of_stars):\n",
    "    # Base condition\n",
    "    if max_number_of_stars == 0:\n",
    "        return\n",
    "\n",
    "    # Recursive call for the first half of the pattern\n",
    "    tough(indentation, max_number_of_stars - 1)\n",
    "\n",
    "    # Print the current line with the specified indentation and number of '*'\n",
    "    print(' ' * indentation + '*' * max_number_of_stars)\n",
    "\n",
    "    # Recursive call for the second half of the pattern (after the midpoint)\n",
    "    if max_number_of_stars != 2:\n",
    "        tough(indentation, max_number_of_stars - 1)\n",
    "\n",
    "\n",
    "# Test the function\n",
    "tough(0, 0)\n",
    "print(\"\\n\")\n",
    "tough(0, 1)\n",
    "print(\"\\n\")\n",
    "tough(0, 2)\n",
    "print(\"\\n\")\n",
    "tough(0, 4)"
   ]
  },
  {
   "cell_type": "code",
   "execution_count": null,
   "id": "7db9d313",
   "metadata": {},
   "outputs": [],
   "source": []
  }
 ],
 "metadata": {
  "kernelspec": {
   "display_name": "Python 3 (ipykernel)",
   "language": "python",
   "name": "python3"
  },
  "language_info": {
   "codemirror_mode": {
    "name": "ipython",
    "version": 3
   },
   "file_extension": ".py",
   "mimetype": "text/x-python",
   "name": "python",
   "nbconvert_exporter": "python",
   "pygments_lexer": "ipython3",
   "version": "3.11.4"
  }
 },
 "nbformat": 4,
 "nbformat_minor": 5
}
